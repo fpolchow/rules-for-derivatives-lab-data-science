{
 "cells": [
  {
   "cell_type": "markdown",
   "metadata": {},
   "source": [
    "# Derivative rules lab"
   ]
  },
  {
   "cell_type": "markdown",
   "metadata": {},
   "source": [
    "In this lab, we will practice our knowledge of rules that we can apply to derivatives.  This lab will review your understanding of the following:\n",
    "\n",
    "1. The power rule\n",
    "2. The constant factor rule\n",
    "3. The addition rule"
   ]
  },
  {
   "cell_type": "markdown",
   "metadata": {},
   "source": [
    "As you know we can represent polynomial functions as a list of tuples.  For example, we've represented the $f(x)=2x^3+7x$ in Python as `[(2, 3), (7, 1)]`.  Each term is represented as a single tuple, for example, `(2, 3)`.\n",
    "\n",
    "Let's start with writing a function called `find_derivative_term` that returns a derivative of a single term.  The function takes the derivative of one term represented as a tuple: $(1, 3)$, and returns it's derivative, also represented as a tuple.  For example, if the derivative $f'(x) = 2x^3$, then the function `find_derivative_terms` should return `(2, 3)`."
   ]
  },
  {
   "cell_type": "code",
   "execution_count": 1,
   "metadata": {},
   "outputs": [],
   "source": [
    "one_x_cubed = (1, 3)"
   ]
  },
  {
   "cell_type": "code",
   "execution_count": 2,
   "metadata": {},
   "outputs": [],
   "source": [
    "def find_term_derivative(term):\n",
    "    return(term[0]*term[1],term[1]-1)"
   ]
  },
  {
   "cell_type": "code",
   "execution_count": 9,
   "metadata": {},
   "outputs": [
    {
     "data": {
      "text/plain": [
       "(4, 1)"
      ]
     },
     "execution_count": 9,
     "metadata": {},
     "output_type": "execute_result"
    }
   ],
   "source": [
    "# find_term_derivative(one_x_cubed) # (3, 2)\n",
    "two_x_squared = (2, 2)\n",
    "find_term_derivative(two_x_squared) # (4, 1)"
   ]
  },
  {
   "cell_type": "markdown",
   "metadata": {},
   "source": [
    "Ok, now that we have a Python function called `find_derivative` that can take a derivative of a term, write a function that take as an argument our multitermed function, and return the derivative of the multiterm function represented as a list of tuples.  "
   ]
  },
  {
   "cell_type": "code",
   "execution_count": 15,
   "metadata": {},
   "outputs": [],
   "source": [
    "def find_derivative(function_terms):\n",
    "    derivs = []\n",
    "    for func in function_terms:\n",
    "        if func[1] == 0:\n",
    "            continue\n",
    "        else:\n",
    "            derivs.append(find_term_derivative(func))\n",
    "    return derivs\n",
    "        "
   ]
  },
  {
   "cell_type": "code",
   "execution_count": 16,
   "metadata": {},
   "outputs": [
    {
     "data": {
      "text/plain": [
       "[(12, 2), (-3, 0)]"
      ]
     },
     "execution_count": 16,
     "metadata": {},
     "output_type": "execute_result"
    }
   ],
   "source": [
    "first_terms = [(4, 3), (-3, 1)]\n",
    "find_derivative(first_terms)"
   ]
  },
  {
   "cell_type": "markdown",
   "metadata": {},
   "source": [
    "One gotcha to note is that when a term is raised to the zero power, it means it is just a number like 12, and taking the derivative of a constant should give us a term of zero, and therefore can be removed."
   ]
  },
  {
   "cell_type": "code",
   "execution_count": 17,
   "metadata": {},
   "outputs": [
    {
     "data": {
      "text/plain": [
       "[(6, 1)]"
      ]
     },
     "execution_count": 17,
     "metadata": {},
     "output_type": "execute_result"
    }
   ],
   "source": [
    "second_terms = [(3, 2), (-11, 0)]\n",
    "find_derivative(second_terms) # [(6, 1)]"
   ]
  },
  {
   "cell_type": "markdown",
   "metadata": {},
   "source": [
    "Our next function is called, `derivative_at`, which when provided a list of terms, and a value $x$ at which to evaluate the derivative returns the value of derivative at that point."
   ]
  },
  {
   "cell_type": "code",
   "execution_count": 18,
   "metadata": {},
   "outputs": [],
   "source": [
    "\n",
    "def derivative_at(terms, x):\n",
    "    teeb = find_derivative(terms)\n",
    "    value = 0\n",
    "    for item in teeb:\n",
    "        \n",
    "        value +=item[0]*x**item[1] \n",
    "    return value"
   ]
  },
  {
   "cell_type": "code",
   "execution_count": 22,
   "metadata": {},
   "outputs": [
    {
     "data": {
      "text/plain": [
       "12"
      ]
     },
     "execution_count": 22,
     "metadata": {},
     "output_type": "execute_result"
    }
   ],
   "source": [
    "# second_terms = [(3, 2), (-11, 0)]\n",
    "# find_derivative(second_terms) # [(6, 1)]\n",
    "derivative_at(second_terms, 2) # 12\n",
    "\n",
    "# find_derivative(first_terms) # [(12, 2), (-3, 0)]\n",
    "# derivative_at(first_terms, 1) # 9"
   ]
  },
  {
   "cell_type": "code",
   "execution_count": 23,
   "metadata": {},
   "outputs": [
    {
     "name": "stderr",
     "output_type": "stream",
     "text": [
      "/opt/conda/lib/python3.6/importlib/_bootstrap.py:219: RuntimeWarning: numpy.dtype size changed, may indicate binary incompatibility. Expected 96, got 88\n",
      "  return f(*args, **kwds)\n",
      "/opt/conda/lib/python3.6/importlib/_bootstrap.py:219: RuntimeWarning: numpy.dtype size changed, may indicate binary incompatibility. Expected 96, got 88\n",
      "  return f(*args, **kwds)\n"
     ]
    },
    {
     "data": {
      "text/html": [
       "<script>requirejs.config({paths: { 'plotly': ['https://cdn.plot.ly/plotly-latest.min']},});if(!window.Plotly) {{require(['plotly'],function(plotly) {window.Plotly=plotly;});}}</script>"
      ],
      "text/vnd.plotly.v1+html": [
       "<script>requirejs.config({paths: { 'plotly': ['https://cdn.plot.ly/plotly-latest.min']},});if(!window.Plotly) {{require(['plotly'],function(plotly) {window.Plotly=plotly;});}}</script>"
      ]
     },
     "metadata": {},
     "output_type": "display_data"
    },
    {
     "data": {
      "text/html": [
       "<script>requirejs.config({paths: { 'plotly': ['https://cdn.plot.ly/plotly-latest.min']},});if(!window.Plotly) {{require(['plotly'],function(plotly) {window.Plotly=plotly;});}}</script>"
      ],
      "text/vnd.plotly.v1+html": [
       "<script>requirejs.config({paths: { 'plotly': ['https://cdn.plot.ly/plotly-latest.min']},});if(!window.Plotly) {{require(['plotly'],function(plotly) {window.Plotly=plotly;});}}</script>"
      ]
     },
     "metadata": {},
     "output_type": "display_data"
    }
   ],
   "source": [
    "from graph import plot\n",
    "from plotly.offline import iplot, init_notebook_mode\n",
    "init_notebook_mode(connected=True)\n",
    "\n",
    "def output_at(function_terms, x_value):\n",
    "    total = 0\n",
    "    for term in function_terms:\n",
    "        total += term[0]*x_value**term[1]\n",
    "    return total\n",
    "\n",
    "def polynomial_function_trace(function_terms, x_values):\n",
    "    y_values = list(map(lambda x: output_at(function_terms, x), x_values))\n",
    "    return {'x': x_values, 'y': y_values}\n",
    "\n",
    "def tangent_line(function_terms, x_value, line_length = 4):\n",
    "    x_minus = x_value - line_length\n",
    "    x_plus = x_value + line_length\n",
    "    y = output_at(function_terms, x_value)\n",
    "    deriv = derivative_at(function_terms, x_value)\n",
    "    y_minus = y - deriv * line_length\n",
    "    y_plus = y + deriv * line_length\n",
    "    return {'x': [x_minus, x_value, x_plus], 'y': [y_minus, y, y_plus]}"
   ]
  },
  {
   "cell_type": "code",
   "execution_count": 24,
   "metadata": {},
   "outputs": [
    {
     "data": {
      "text/plain": [
       "{'x': [1, 5, 9], 'y': [-56, 64, 184]}"
      ]
     },
     "execution_count": 24,
     "metadata": {},
     "output_type": "execute_result"
    }
   ],
   "source": [
    "first_terms = [(4, 3), (-3, 1)]\n",
    "tangent_line(first_terms, 8, line_length = 3)\n",
    "# {'x': [5, 8, 11], 'y': [-271, 2024, 4319]}\n",
    "\n",
    "second_terms = [(3, 2), (-11, 0)]\n",
    "tangent_at_five_trace = tangent_line(second_terms, 5, line_length = 4) or {}\n",
    "tangent_at_five_trace  # {'x': [1, 5, 9], 'y': [-56, 64, 184]}"
   ]
  },
  {
   "cell_type": "code",
   "execution_count": 25,
   "metadata": {},
   "outputs": [
    {
     "data": {
      "application/vnd.plotly.v1+json": {
       "data": [
        {
         "type": "scatter",
         "uid": "665bf320-cc3c-11e8-9bb1-0242ac110015",
         "x": [
          -10,
          -9,
          -8,
          -7,
          -6,
          -5,
          -4,
          -3,
          -2,
          -1,
          0,
          1,
          2,
          3,
          4,
          5,
          6,
          7,
          8,
          9
         ],
         "y": [
          289,
          232,
          181,
          136,
          97,
          64,
          37,
          16,
          1,
          -8,
          -11,
          -8,
          1,
          16,
          37,
          64,
          97,
          136,
          181,
          232
         ]
        },
        {
         "type": "scatter",
         "uid": "665bf6e0-cc3c-11e8-9bb1-0242ac110015",
         "x": [
          1,
          5,
          9
         ],
         "y": [
          -56,
          64,
          184
         ]
        }
       ],
       "layout": {}
      },
      "text/html": [
       "<div id=\"7263d637-0242-442a-a8bd-c47adaab2fa9\" style=\"height: 525px; width: 100%;\" class=\"plotly-graph-div\"></div><script type=\"text/javascript\">require([\"plotly\"], function(Plotly) { window.PLOTLYENV=window.PLOTLYENV || {};window.PLOTLYENV.BASE_URL=\"https://plot.ly\";Plotly.newPlot(\"7263d637-0242-442a-a8bd-c47adaab2fa9\", [{\"x\": [-10, -9, -8, -7, -6, -5, -4, -3, -2, -1, 0, 1, 2, 3, 4, 5, 6, 7, 8, 9], \"y\": [289, 232, 181, 136, 97, 64, 37, 16, 1, -8, -11, -8, 1, 16, 37, 64, 97, 136, 181, 232], \"type\": \"scatter\", \"uid\": \"6687313e-cc3c-11e8-9bb1-0242ac110015\"}, {\"x\": [1, 5, 9], \"y\": [-56, 64, 184], \"type\": \"scatter\", \"uid\": \"668733e6-cc3c-11e8-9bb1-0242ac110015\"}], {}, {\"showLink\": true, \"linkText\": \"Export to plot.ly\"})});</script>"
      ],
      "text/vnd.plotly.v1+html": [
       "<div id=\"7263d637-0242-442a-a8bd-c47adaab2fa9\" style=\"height: 525px; width: 100%;\" class=\"plotly-graph-div\"></div><script type=\"text/javascript\">require([\"plotly\"], function(Plotly) { window.PLOTLYENV=window.PLOTLYENV || {};window.PLOTLYENV.BASE_URL=\"https://plot.ly\";Plotly.newPlot(\"7263d637-0242-442a-a8bd-c47adaab2fa9\", [{\"x\": [-10, -9, -8, -7, -6, -5, -4, -3, -2, -1, 0, 1, 2, 3, 4, 5, 6, 7, 8, 9], \"y\": [289, 232, 181, 136, 97, 64, 37, 16, 1, -8, -11, -8, 1, 16, 37, 64, 97, 136, 181, 232], \"type\": \"scatter\", \"uid\": \"6687313e-cc3c-11e8-9bb1-0242ac110015\"}, {\"x\": [1, 5, 9], \"y\": [-56, 64, 184], \"type\": \"scatter\", \"uid\": \"668733e6-cc3c-11e8-9bb1-0242ac110015\"}], {}, {\"showLink\": true, \"linkText\": \"Export to plot.ly\"})});</script>"
      ]
     },
     "metadata": {},
     "output_type": "display_data"
    }
   ],
   "source": [
    "second_terms_trace = polynomial_function_trace(second_terms, list(range(-10, 10))) or {}\n",
    "plot([second_terms_trace, tangent_at_five_trace])"
   ]
  },
  {
   "cell_type": "markdown",
   "metadata": {},
   "source": [
    "We can also write a function that given a list of terms can plot the derivative across multiple values.  After all, the derivative is just a function.  For example, when $f(x) = 3x^2 - 11$, $f'(x) = 6x$.  "
   ]
  },
  {
   "cell_type": "markdown",
   "metadata": {},
   "source": [
    "We know that we can plot multiterm functions with our `polynomial_function_trace`.  So write a function called `derivative_function_trace` that given a function representing $f(x)$ plots a function $f'(x)$.  "
   ]
  },
  {
   "cell_type": "code",
   "execution_count": 26,
   "metadata": {},
   "outputs": [],
   "source": [
    "def derivative_function_trace(terms, x_values):\n",
    "    derivative_terms = find_derivative(terms)\n",
    "    return polynomial_function_trace(derivative_terms, x_values)"
   ]
  },
  {
   "cell_type": "code",
   "execution_count": 27,
   "metadata": {},
   "outputs": [
    {
     "data": {
      "text/plain": [
       "{'x': [-5, -4, -3, -2, -1, 0, 1, 2, 3, 4],\n",
       " 'y': [-30, -24, -18, -12, -6, 0, 6, 12, 18, 24]}"
      ]
     },
     "execution_count": 27,
     "metadata": {},
     "output_type": "execute_result"
    }
   ],
   "source": [
    "second_terms = [(3, 2), (-11, 0)]\n",
    "second_terms_derivative_trace = derivative_function_trace(second_terms, list(range(-5, 5))) or {}\n",
    "second_terms_derivative_trace\n",
    "# {'x': [-5, -4, -3, -2, -1, 0, 1, 2, 3, 4],\n",
    "#  'y': [-30, -24, -18, -12, -6, 0, 6, 12, 18, 24]}"
   ]
  },
  {
   "cell_type": "markdown",
   "metadata": {},
   "source": [
    "Take a second to look at the side by side plots of the underlying function, $f(x) = 3x^2 - 11$ and $f'(x) = 6x $."
   ]
  },
  {
   "cell_type": "code",
   "execution_count": 28,
   "metadata": {},
   "outputs": [
    {
     "name": "stdout",
     "output_type": "stream",
     "text": [
      "This is the format of your plot grid:\n",
      "[ (1,1) x1,y1 ]  [ (1,2) x2,y2 ]\n",
      "\n"
     ]
    },
    {
     "data": {
      "application/vnd.plotly.v1+json": {
       "data": [
        {
         "type": "scatter",
         "uid": "e2723f8c-cc3c-11e8-9bb1-0242ac110015",
         "x": [
          -10,
          -9,
          -8,
          -7,
          -6,
          -5,
          -4,
          -3,
          -2,
          -1,
          0,
          1,
          2,
          3,
          4,
          5,
          6,
          7,
          8,
          9
         ],
         "xaxis": "x",
         "y": [
          289,
          232,
          181,
          136,
          97,
          64,
          37,
          16,
          1,
          -8,
          -11,
          -8,
          1,
          16,
          37,
          64,
          97,
          136,
          181,
          232
         ],
         "yaxis": "y"
        },
        {
         "type": "scatter",
         "uid": "e27307e6-cc3c-11e8-9bb1-0242ac110015",
         "x": [
          -5,
          -4,
          -3,
          -2,
          -1,
          0,
          1,
          2,
          3,
          4
         ],
         "xaxis": "x2",
         "y": [
          -30,
          -24,
          -18,
          -12,
          -6,
          0,
          6,
          12,
          18,
          24
         ],
         "yaxis": "y2"
        }
       ],
       "layout": {
        "xaxis": {
         "anchor": "y",
         "domain": [
          0,
          0.45
         ]
        },
        "xaxis2": {
         "anchor": "y2",
         "domain": [
          0.55,
          1
         ]
        },
        "yaxis": {
         "anchor": "x",
         "domain": [
          0,
          1
         ]
        },
        "yaxis2": {
         "anchor": "x2",
         "domain": [
          0,
          1
         ]
        }
       }
      },
      "text/html": [
       "<div id=\"d944f8f6-41e4-49d1-a836-20ee7aca9cd7\" style=\"height: 525px; width: 100%;\" class=\"plotly-graph-div\"></div><script type=\"text/javascript\">require([\"plotly\"], function(Plotly) { window.PLOTLYENV=window.PLOTLYENV || {};window.PLOTLYENV.BASE_URL=\"https://plot.ly\";Plotly.newPlot(\"d944f8f6-41e4-49d1-a836-20ee7aca9cd7\", [{\"x\": [-10, -9, -8, -7, -6, -5, -4, -3, -2, -1, 0, 1, 2, 3, 4, 5, 6, 7, 8, 9], \"y\": [289, 232, 181, 136, 97, 64, 37, 16, 1, -8, -11, -8, 1, 16, 37, 64, 97, 136, 181, 232], \"type\": \"scatter\", \"uid\": \"e2723f8c-cc3c-11e8-9bb1-0242ac110015\", \"xaxis\": \"x\", \"yaxis\": \"y\"}, {\"x\": [-5, -4, -3, -2, -1, 0, 1, 2, 3, 4], \"y\": [-30, -24, -18, -12, -6, 0, 6, 12, 18, 24], \"type\": \"scatter\", \"uid\": \"e27307e6-cc3c-11e8-9bb1-0242ac110015\", \"xaxis\": \"x2\", \"yaxis\": \"y2\"}], {\"xaxis\": {\"anchor\": \"y\", \"domain\": [0.0, 0.45]}, \"yaxis\": {\"anchor\": \"x\", \"domain\": [0.0, 1.0]}, \"xaxis2\": {\"anchor\": \"y2\", \"domain\": [0.55, 1.0]}, \"yaxis2\": {\"anchor\": \"x2\", \"domain\": [0.0, 1.0]}}, {\"showLink\": true, \"linkText\": \"Export to plot.ly\"})});</script>"
      ],
      "text/vnd.plotly.v1+html": [
       "<div id=\"d944f8f6-41e4-49d1-a836-20ee7aca9cd7\" style=\"height: 525px; width: 100%;\" class=\"plotly-graph-div\"></div><script type=\"text/javascript\">require([\"plotly\"], function(Plotly) { window.PLOTLYENV=window.PLOTLYENV || {};window.PLOTLYENV.BASE_URL=\"https://plot.ly\";Plotly.newPlot(\"d944f8f6-41e4-49d1-a836-20ee7aca9cd7\", [{\"x\": [-10, -9, -8, -7, -6, -5, -4, -3, -2, -1, 0, 1, 2, 3, 4, 5, 6, 7, 8, 9], \"y\": [289, 232, 181, 136, 97, 64, 37, 16, 1, -8, -11, -8, 1, 16, 37, 64, 97, 136, 181, 232], \"type\": \"scatter\", \"uid\": \"e2723f8c-cc3c-11e8-9bb1-0242ac110015\", \"xaxis\": \"x\", \"yaxis\": \"y\"}, {\"x\": [-5, -4, -3, -2, -1, 0, 1, 2, 3, 4], \"y\": [-30, -24, -18, -12, -6, 0, 6, 12, 18, 24], \"type\": \"scatter\", \"uid\": \"e27307e6-cc3c-11e8-9bb1-0242ac110015\", \"xaxis\": \"x2\", \"yaxis\": \"y2\"}], {\"xaxis\": {\"anchor\": \"y\", \"domain\": [0.0, 0.45]}, \"yaxis\": {\"anchor\": \"x\", \"domain\": [0.0, 1.0]}, \"xaxis2\": {\"anchor\": \"y2\", \"domain\": [0.55, 1.0]}, \"yaxis2\": {\"anchor\": \"x2\", \"domain\": [0.0, 1.0]}}, {\"showLink\": true, \"linkText\": \"Export to plot.ly\"})});</script>"
      ]
     },
     "metadata": {},
     "output_type": "display_data"
    }
   ],
   "source": [
    "from plotly import tools\n",
    "import plotly\n",
    "import plotly.plotly as py\n",
    "\n",
    "def plot_side_by_side(left_trace, right_trace):\n",
    "    fig = tools.make_subplots(rows=1, cols=2)\n",
    "    fig.append_trace(left_trace, 1, 1)\n",
    "    fig.append_trace(right_trace, 1, 2)\n",
    "    plotly.offline.iplot(fig)\n",
    "    \n",
    "plot_side_by_side(second_terms_trace, second_terms_derivative_trace)"
   ]
  },
  {
   "cell_type": "markdown",
   "metadata": {},
   "source": [
    "Note that when the $x$ values of $f(x)$ are positive, the $f(x)$ begins increasing, therefore $f'(x)$ is greater than zero, which the graph on the right displays.  And the more positive the values $x$ for $f(x)$, the faster the rate of increase.  When our function $f(x)$ is negative, the function is decreasing, that is for every change in $x$, the change in $f(x)$ is negative, and therefore $f'(x)$ is negative."
   ]
  }
 ],
 "metadata": {
  "kernelspec": {
   "display_name": "Python 3",
   "language": "python",
   "name": "python3"
  },
  "language_info": {
   "codemirror_mode": {
    "name": "ipython",
    "version": 3
   },
   "file_extension": ".py",
   "mimetype": "text/x-python",
   "name": "python",
   "nbconvert_exporter": "python",
   "pygments_lexer": "ipython3",
   "version": "3.6.4"
  }
 },
 "nbformat": 4,
 "nbformat_minor": 2
}
